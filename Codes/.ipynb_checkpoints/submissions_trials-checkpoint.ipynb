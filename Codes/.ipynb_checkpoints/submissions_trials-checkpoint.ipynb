{
 "cells": [
  {
   "cell_type": "code",
   "execution_count": 1,
   "metadata": {
    "collapsed": true
   },
   "outputs": [],
   "source": [
    "import pandas as pd\n",
    "import numpy as np\n",
    "import pickle\n",
    "import os"
   ]
  },
  {
   "cell_type": "code",
   "execution_count": 2,
   "metadata": {
    "collapsed": true
   },
   "outputs": [],
   "source": [
    "from scipy.special import cbrt"
   ]
  },
  {
   "cell_type": "code",
   "execution_count": 3,
   "metadata": {
    "collapsed": true
   },
   "outputs": [],
   "source": [
    "os.chdir('../pickles')"
   ]
  },
  {
   "cell_type": "code",
   "execution_count": 4,
   "metadata": {
    "collapsed": true
   },
   "outputs": [],
   "source": [
    "numerical = pickle.load(open('numerical_final.pickle','rb'))\n",
    "categorical = pickle.load(open('categorical.pickle','rb'))\n",
    "conversion_dict = pickle.load(open('conversion_dict.pickle','rb'))\n",
    "scale = pickle.load(open('scale.pickle','rb'))\n",
    "imputation_cols = pickle.load(open('imputation_cols.pickle','rb'))\n",
    "dummy_cols = pickle.load(open('dummies_final.pickle','rb'))\n",
    "pca = pickle.load(open('pca.pickle','rb'))"
   ]
  },
  {
   "cell_type": "code",
   "execution_count": 5,
   "metadata": {
    "collapsed": true
   },
   "outputs": [],
   "source": [
    "model_cols = pickle.load(open('model_columns.pickle'))"
   ]
  },
  {
   "cell_type": "code",
   "execution_count": 6,
   "metadata": {
    "collapsed": true
   },
   "outputs": [],
   "source": [
    "os.chdir('../Input_Data')"
   ]
  },
  {
   "cell_type": "code",
   "execution_count": 7,
   "metadata": {
    "collapsed": true
   },
   "outputs": [],
   "source": [
    "numerical.remove('SalePrice')"
   ]
  },
  {
   "cell_type": "code",
   "execution_count": 8,
   "metadata": {
    "collapsed": true
   },
   "outputs": [],
   "source": [
    "df = pd.read_csv('test.csv',usecols=numerical+categorical+['Id'],header=0)"
   ]
  },
  {
   "cell_type": "code",
   "execution_count": 9,
   "metadata": {
    "collapsed": true
   },
   "outputs": [],
   "source": [
    "df.set_index('Id',inplace=True)"
   ]
  },
  {
   "cell_type": "code",
   "execution_count": 10,
   "metadata": {},
   "outputs": [
    {
     "name": "stdout",
     "output_type": "stream",
     "text": [
      "MSZoning done\n",
      "Street done\n",
      "Alley done\n",
      "LotShape done\n",
      "LandContour done\n",
      "Utilities done\n",
      "LotConfig done\n",
      "LandSlope done\n",
      "Neighborhood done\n",
      "Condition1 done\n",
      "Condition2 done\n",
      "BldgType done\n",
      "HouseStyle done\n",
      "RoofStyle done\n",
      "RoofMatl done\n",
      "Exterior1st done\n",
      "Exterior2nd done\n",
      "MasVnrType done\n",
      "ExterQual done\n",
      "ExterCond done\n",
      "Foundation done\n",
      "BsmtQual done\n",
      "BsmtCond done\n",
      "BsmtExposure done\n",
      "BsmtFinType1 done\n",
      "BsmtFinType2 done\n",
      "Heating done\n",
      "HeatingQC done\n",
      "CentralAir done\n",
      "Electrical done\n",
      "KitchenQual done\n",
      "Functional done\n",
      "FireplaceQu done\n",
      "GarageType done\n",
      "GarageFinish done\n",
      "GarageQual done\n",
      "GarageCond done\n",
      "PavedDrive done\n",
      "PoolQC done\n",
      "Fence done\n",
      "MiscFeature done\n",
      "SaleType done\n",
      "SaleCondition done\n"
     ]
    }
   ],
   "source": [
    "for col in categorical:\n",
    "    if len(conversion_dict[col])==1:\n",
    "        category = conversion_dict[col][0]\n",
    "        df[col+'_dum_'+str(category)] = 0\n",
    "        df.loc[df[col]==category,col+'_dum_'+str(category)]=1\n",
    "    else:\n",
    "        total_categories = len(conversion_dict[col])\n",
    "        dummies = len(str(int(bin(total_categories)[2:],10)))\n",
    "        bin_conv=[]\n",
    "        for i in range(total_categories):\n",
    "            bin_conv.append(conversion_dict[col][i][1])\n",
    "        for j in range(dummies):\n",
    "            df[col+'_dum_'+str(j)]=0\n",
    "            for i,cat in enumerate([conv[0] for conv in conversion_dict[col]]):\n",
    "                df.loc[df[col]==cat,col+'_dum_'+str(j)]=bin_conv[i]%10\n",
    "                bin_conv[i]=bin_conv[i]//10\n",
    "    df.drop(col,axis=1,inplace=True)\n",
    "    print(col+' done')   "
   ]
  },
  {
   "cell_type": "code",
   "execution_count": 11,
   "metadata": {
    "collapsed": true
   },
   "outputs": [],
   "source": [
    "transform_dict = {'log':lambda x: np.log(x),'sqr':lambda x: x**2,'sqrt':lambda x: np.sqrt(x),'exp':lambda x:np.exp(x),\n",
    "                 'cube':lambda x: x**3,'cuberoot': lambda x: cbrt(x)}"
   ]
  },
  {
   "cell_type": "code",
   "execution_count": 12,
   "metadata": {
    "collapsed": true
   },
   "outputs": [],
   "source": [
    "os.chdir('../Statistics')"
   ]
  },
  {
   "cell_type": "code",
   "execution_count": 13,
   "metadata": {
    "collapsed": true
   },
   "outputs": [],
   "source": [
    "edd = pd.read_csv('edd_v05.csv',header=0)"
   ]
  },
  {
   "cell_type": "code",
   "execution_count": 14,
   "metadata": {
    "collapsed": true
   },
   "outputs": [],
   "source": [
    "def transform(x,function):\n",
    "    if x is not None:\n",
    "        return function(x)\n",
    "    else:\n",
    "        return np.nan"
   ]
  },
  {
   "cell_type": "code",
   "execution_count": 15,
   "metadata": {
    "collapsed": true
   },
   "outputs": [],
   "source": [
    "for col in numerical:\n",
    "    if edd[(edd['Var']==col)&(edd['Status'].notnull())].shape[0]!=0:\n",
    "        function = transform_dict[edd.loc[edd['Var']==col,'Status'].values[0]]\n",
    "        df[col] = df[col].apply(lambda x: transform(x,function))"
   ]
  },
  {
   "cell_type": "code",
   "execution_count": 16,
   "metadata": {
    "collapsed": true
   },
   "outputs": [],
   "source": [
    "os.chdir('../Imputation_models')"
   ]
  },
  {
   "cell_type": "code",
   "execution_count": 17,
   "metadata": {},
   "outputs": [
    {
     "name": "stdout",
     "output_type": "stream",
     "text": [
      "3SsnPorch imputed\n",
      "BsmtUnfSF imputed\n",
      "ScreenPorch imputed\n",
      "BsmtFullBath imputed\n",
      "OpenPorchSF imputed\n",
      "HalfBath imputed\n",
      "OverallCond imputed\n",
      "BsmtHalfBath imputed\n",
      "GarageCars imputed\n",
      "BedroomAbvGr imputed\n",
      "WoodDeckSF imputed\n"
     ]
    }
   ],
   "source": [
    "for col in numerical:\n",
    "    model = pickle.load(open(col+'_impute.pickle','rb'))\n",
    "    if df[col].isnull().any():\n",
    "        indices = df.loc[df[col].isnull()].index.tolist()\n",
    "        df.loc[indices,col]=np.array(model.predict(np.array(df.loc[indices,imputation_cols])))\n",
    "        del indices\n",
    "    del model\n",
    "    print(col+' imputed')"
   ]
  },
  {
   "cell_type": "code",
   "execution_count": 18,
   "metadata": {
    "collapsed": true
   },
   "outputs": [],
   "source": [
    "df = df[numerical+dummy_cols]"
   ]
  },
  {
   "cell_type": "code",
   "execution_count": 42,
   "metadata": {
    "collapsed": true
   },
   "outputs": [],
   "source": [
    "os.chdir('../Models/Inferential_models')"
   ]
  },
  {
   "cell_type": "code",
   "execution_count": 43,
   "metadata": {
    "collapsed": true
   },
   "outputs": [],
   "source": [
    "model = pickle.load(open('RF.pickle','rb'))"
   ]
  },
  {
   "cell_type": "code",
   "execution_count": 44,
   "metadata": {
    "collapsed": true
   },
   "outputs": [],
   "source": [
    "df_submission = pd.DataFrame()\n",
    "df_submission['SalePrice'] = model.predict(scale.transform(np.array(df[model_cols])))"
   ]
  },
  {
   "cell_type": "code",
   "execution_count": 45,
   "metadata": {
    "collapsed": true
   },
   "outputs": [],
   "source": [
    "df_submission.index = df.index"
   ]
  },
  {
   "cell_type": "code",
   "execution_count": 46,
   "metadata": {
    "collapsed": true
   },
   "outputs": [],
   "source": [
    "os.chdir('../../Submissions')"
   ]
  },
  {
   "cell_type": "code",
   "execution_count": 47,
   "metadata": {
    "collapsed": true
   },
   "outputs": [],
   "source": [
    "df_submission.to_csv('submission.csv')"
   ]
  },
  {
   "cell_type": "code",
   "execution_count": null,
   "metadata": {
    "collapsed": true
   },
   "outputs": [],
   "source": []
  }
 ],
 "metadata": {
  "kernelspec": {
   "display_name": "Python 2",
   "language": "python",
   "name": "python2"
  },
  "language_info": {
   "codemirror_mode": {
    "name": "ipython",
    "version": 2
   },
   "file_extension": ".py",
   "mimetype": "text/x-python",
   "name": "python",
   "nbconvert_exporter": "python",
   "pygments_lexer": "ipython2",
   "version": "2.7.13"
  }
 },
 "nbformat": 4,
 "nbformat_minor": 2
}
